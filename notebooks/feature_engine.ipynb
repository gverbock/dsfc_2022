{
 "cells": [
  {
   "cell_type": "code",
   "execution_count": 2,
   "metadata": {},
   "outputs": [
    {
     "name": "stdout",
     "output_type": "stream",
     "text": [
      "The autoreload extension is already loaded. To reload it, use:\n",
      "  %reload_ext autoreload\n"
     ]
    }
   ],
   "source": [
    "%load_ext autoreload\n",
    "%autoreload 2\n",
    "\n",
    "import numpy as np\n",
    "import pandas as pd\n",
    "\n",
    "from feature_engine.outliers import Winsorizer\n",
    "from feature_engine.encoding import OneHotEncoder\n",
    "from feature_engine.selection import (\n",
    "    DropDuplicateFeatures, \n",
    "    DropConstantFeatures, \n",
    "    DropCorrelatedFeatures\n",
    "    )\n",
    "\n",
    "from sklearn.compose import ColumnTransformer\n",
    "from sklearn.datasets import load_breast_cancer\n",
    "from sklearn.pipeline import Pipeline\n",
    "from sklearn.impute import SimpleImputer\n"
   ]
  },
  {
   "cell_type": "code",
   "execution_count": 3,
   "metadata": {},
   "outputs": [],
   "source": [
    "data = load_breast_cancer()"
   ]
  },
  {
   "cell_type": "code",
   "execution_count": 4,
   "metadata": {},
   "outputs": [],
   "source": [
    "X = pd.DataFrame(data['data'])\n",
    "X.columns = data['feature_names']\n",
    "y = pd.Series(data['target'])\n",
    "\n",
    "X['categ_1'] = np.where(X['mean smoothness'] > 0.1, 'low', 'high')\n",
    "X['categ_2'] = X['mean radius'].apply(lambda x: str(int(x))) \n",
    "\n",
    "numerics = X.select_dtypes(\"number\").columns.to_list()\n",
    "categoricals = [col for col in X if col not in numerics]"
   ]
  },
  {
   "cell_type": "code",
   "execution_count": 5,
   "metadata": {},
   "outputs": [],
   "source": [
    "numerical_pipe = Pipeline(\n",
    "    steps = [\n",
    "        (\"imputation\",  SimpleImputer(strategy=\"mean\")),\n",
    "        (\"outliers\", Winsorizer(capping_method=\"gaussian\"))\n",
    "    ]\n",
    ")"
   ]
  },
  {
   "cell_type": "code",
   "execution_count": 6,
   "metadata": {},
   "outputs": [],
   "source": [
    "categorical_pipe = Pipeline(\n",
    "    steps = [\n",
    "        (\"imputation\", SimpleImputer(strategy='constant', fill_value='Missing')),\n",
    "        (\"ohe\", OneHotEncoder(top_categories=5))\n",
    "    ]\n",
    ")"
   ]
  },
  {
   "cell_type": "code",
   "execution_count": 7,
   "metadata": {},
   "outputs": [],
   "source": [
    "preprocessor = ColumnTransformer(\n",
    "    transformers=[\n",
    "        ('num', numerical_pipe, numerics),\n",
    "        ('cat', categorical_pipe, categoricals)\n",
    "    ]\n",
    ")"
   ]
  },
  {
   "cell_type": "code",
   "execution_count": 8,
   "metadata": {},
   "outputs": [],
   "source": [
    "selection = Pipeline(\n",
    "        steps=[\n",
    "            (\"preprocess\", preprocessor),\n",
    "            (\"drop_constant\", DropConstantFeatures()), \n",
    "            (\"drop_duplicates\", DropDuplicateFeatures()),\n",
    "            (\"remove_correlation\", DropCorrelatedFeatures(threshold=0.8))\n",
    "            ]\n",
    "    )"
   ]
  },
  {
   "cell_type": "code",
   "execution_count": 9,
   "metadata": {},
   "outputs": [
    {
     "name": "stdout",
     "output_type": "stream",
     "text": [
      "(569, 32) (569, 20)\n"
     ]
    }
   ],
   "source": [
    "X_transformed = selection.fit_transform(X)\n",
    "print(X.shape, X_transformed.shape)"
   ]
  }
 ],
 "metadata": {
  "interpreter": {
   "hash": "31f2aee4e71d21fbe5cf8b01ff0e069b9275f58929596ceb00d14d90e3e16cd6"
  },
  "kernelspec": {
   "display_name": "Python 3",
   "language": "python",
   "name": "python3"
  },
  "language_info": {
   "codemirror_mode": {
    "name": "ipython",
    "version": 3
   },
   "file_extension": ".py",
   "mimetype": "text/x-python",
   "name": "python",
   "nbconvert_exporter": "python",
   "pygments_lexer": "ipython3",
   "version": "3.6.9"
  }
 },
 "nbformat": 4,
 "nbformat_minor": 2
}
