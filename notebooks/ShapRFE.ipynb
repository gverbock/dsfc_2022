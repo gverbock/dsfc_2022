{
 "cells": [
  {
   "cell_type": "markdown",
   "id": "9c84d037-9869-4bb2-9018-3e1597072fd2",
   "metadata": {
    "id": "9c84d037-9869-4bb2-9018-3e1597072fd2"
   },
   "source": [
    "# Smart feature selection with sklearn pipelines, feature-engine, and probatus\n",
    "\n",
    "* Gilles Verbockhaven (gilles.verbockhaven@ing.com)\n",
    "* Ryan Chaves (ryan.chaves@ing.com)\n",
    "\n",
    "## Feature elimination w/ `probatus`\n",
    "\n",
    "This notebook is based in part on an internal ING Code Breakfast workshop prepared by our RPAA Team colleagues João Pinto Moura (joao.pinto.moura@ing.com) and Tingting Qiao (tingting.qiao@ing.com). Kudos!"
   ]
  },
  {
   "cell_type": "markdown",
   "id": "cabfc3df-3202-4e0a-a0b4-68d1a3d8b62d",
   "metadata": {
    "id": "cabfc3df-3202-4e0a-a0b4-68d1a3d8b62d"
   },
   "source": [
    "After removing features based on quality (or stability) criteria, some work still needs to be done since many features will only have a marginal (or even no) contribution to the final prediction.\n",
    "\n",
    "It is therefore considered best practice to reduce the size of the feature set. This is a trade-off between the number of features (model complexity) and model performance."
   ]
  },
  {
   "cell_type": "markdown",
   "id": "bVyi3JIgBSlz",
   "metadata": {
    "id": "bVyi3JIgBSlz"
   },
   "source": [
    "### Import and create a data set \n",
    "\n",
    "(Nearly the same as for the previous notebook)"
   ]
  },
  {
   "cell_type": "markdown",
   "id": "vEp4l6ZJsIkB",
   "metadata": {
    "id": "vEp4l6ZJsIkB"
   },
   "source": [
    "#### Setup & import packages"
   ]
  },
  {
   "cell_type": "code",
   "execution_count": 1,
   "id": "O9_KdhYU3Csi",
   "metadata": {
    "id": "O9_KdhYU3Csi"
   },
   "outputs": [
    {
     "data": {
      "text/html": [
       "<style>.container { width:100% !important; }</style>"
      ],
      "text/plain": [
       "<IPython.core.display.HTML object>"
      ]
     },
     "metadata": {},
     "output_type": "display_data"
    }
   ],
   "source": [
    "from IPython.display import display, HTML\n",
    "display(HTML(\"<style>.container { width:100% !important; }</style>\"))\n",
    "\n",
    "import pandas as pd\n",
    "from sklearn.datasets import make_classification\n",
    "from sklearn.model_selection import train_test_split\n",
    "from sklearn.metrics import roc_auc_score"
   ]
  },
  {
   "cell_type": "markdown",
   "id": "JQfIaahPsP9O",
   "metadata": {
    "id": "JQfIaahPsP9O"
   },
   "source": [
    "#### Function to generate a toy data set\n",
    "\n",
    "We start by generating a data set that has many of the most commonly-encountered issues:\n",
    "\n",
    "- 8 informative features (`n_informative=8`)\n",
    "- 2 features are duplicates of others (`n_repeated=2`)\n",
    "- 2 features have a high correlation with others (`n_redundant=2`)\n",
    "- 2 features have no relation with the target (`n_features - (n_informative + n_redundant + n_repeated)`)\n",
    "- 1 constant feature (`fconst`)\n",
    "\n",
    "We will now introduce you to a few \"selectors\" that are able to automatically find and drop the less relevant features."
   ]
  },
  {
   "cell_type": "code",
   "execution_count": 2,
   "id": "OoDM2yNemcQC",
   "metadata": {
    "id": "OoDM2yNemcQC"
   },
   "outputs": [],
   "source": [
    "def make_df(n_samples, n_features, n_informative, n_redundant, n_repeated):\n",
    "    # Define number of features in the data set\n",
    "    feature_names = [f'f{idx}' for idx in range(1, n_features+1)]\n",
    "\n",
    "    # Prepare toy data set\n",
    "    X, y = make_classification(n_samples=n_samples, n_features=n_features, n_informative=n_informative, \n",
    "                               n_redundant=n_redundant, n_repeated=n_repeated, n_clusters_per_class=1, random_state=42)\n",
    "\n",
    "    X = pd.DataFrame(X, columns=feature_names)\n",
    "    # Add a constant feature\n",
    "    X = X.assign(fconst='21')\n",
    "\n",
    "    # Split the dataset into train and test \n",
    "    X_train, X_test, y_train, y_test = train_test_split(X, y, test_size=0.3, random_state=42)\n",
    "\n",
    "    return X_train, X_test, y_train, y_test"
   ]
  },
  {
   "cell_type": "code",
   "execution_count": 3,
   "id": "Uo-TafMPkOf8",
   "metadata": {
    "id": "Uo-TafMPkOf8"
   },
   "outputs": [],
   "source": [
    "X_train, X_test, y_train, y_test = make_df(n_samples=200, n_features=14, n_informative=8, n_redundant=2, n_repeated=2)"
   ]
  },
  {
   "cell_type": "code",
   "execution_count": 4,
   "id": "Sy7w2l6hkRHo",
   "metadata": {
    "colab": {
     "base_uri": "https://localhost:8080/",
     "height": 268
    },
    "id": "Sy7w2l6hkRHo",
    "outputId": "7a6b2792-72f1-43fa-c86c-656da0c20253"
   },
   "outputs": [
    {
     "data": {
      "text/html": [
       "<div>\n",
       "<style scoped>\n",
       "    .dataframe tbody tr th:only-of-type {\n",
       "        vertical-align: middle;\n",
       "    }\n",
       "\n",
       "    .dataframe tbody tr th {\n",
       "        vertical-align: top;\n",
       "    }\n",
       "\n",
       "    .dataframe thead th {\n",
       "        text-align: right;\n",
       "    }\n",
       "</style>\n",
       "<table border=\"1\" class=\"dataframe\">\n",
       "  <thead>\n",
       "    <tr style=\"text-align: right;\">\n",
       "      <th></th>\n",
       "      <th>f1</th>\n",
       "      <th>f2</th>\n",
       "      <th>f3</th>\n",
       "      <th>f4</th>\n",
       "      <th>f5</th>\n",
       "      <th>f6</th>\n",
       "      <th>f7</th>\n",
       "      <th>f8</th>\n",
       "      <th>f9</th>\n",
       "      <th>f10</th>\n",
       "      <th>f11</th>\n",
       "      <th>f12</th>\n",
       "      <th>f13</th>\n",
       "      <th>f14</th>\n",
       "      <th>fconst</th>\n",
       "    </tr>\n",
       "  </thead>\n",
       "  <tbody>\n",
       "    <tr>\n",
       "      <th>169</th>\n",
       "      <td>-0.800315</td>\n",
       "      <td>2.920142</td>\n",
       "      <td>-0.800315</td>\n",
       "      <td>-1.557496</td>\n",
       "      <td>-2.193671</td>\n",
       "      <td>1.782765</td>\n",
       "      <td>1.898904</td>\n",
       "      <td>-0.028084</td>\n",
       "      <td>-2.198277</td>\n",
       "      <td>1.403814</td>\n",
       "      <td>-1.557496</td>\n",
       "      <td>-0.909287</td>\n",
       "      <td>-1.833341</td>\n",
       "      <td>-0.818953</td>\n",
       "      <td>21</td>\n",
       "    </tr>\n",
       "    <tr>\n",
       "      <th>97</th>\n",
       "      <td>1.559896</td>\n",
       "      <td>1.078386</td>\n",
       "      <td>1.559896</td>\n",
       "      <td>-2.032555</td>\n",
       "      <td>1.408807</td>\n",
       "      <td>2.734227</td>\n",
       "      <td>1.772320</td>\n",
       "      <td>0.228982</td>\n",
       "      <td>3.585245</td>\n",
       "      <td>1.613553</td>\n",
       "      <td>-2.032555</td>\n",
       "      <td>-3.344683</td>\n",
       "      <td>-0.093434</td>\n",
       "      <td>-0.626849</td>\n",
       "      <td>21</td>\n",
       "    </tr>\n",
       "    <tr>\n",
       "      <th>31</th>\n",
       "      <td>2.126218</td>\n",
       "      <td>0.242483</td>\n",
       "      <td>2.126218</td>\n",
       "      <td>2.253564</td>\n",
       "      <td>0.229970</td>\n",
       "      <td>0.573055</td>\n",
       "      <td>-2.632417</td>\n",
       "      <td>-0.747078</td>\n",
       "      <td>2.633389</td>\n",
       "      <td>1.391635</td>\n",
       "      <td>2.253564</td>\n",
       "      <td>0.389168</td>\n",
       "      <td>-0.409961</td>\n",
       "      <td>-1.393621</td>\n",
       "      <td>21</td>\n",
       "    </tr>\n",
       "    <tr>\n",
       "      <th>12</th>\n",
       "      <td>0.301793</td>\n",
       "      <td>-0.626603</td>\n",
       "      <td>0.301793</td>\n",
       "      <td>1.528372</td>\n",
       "      <td>0.043343</td>\n",
       "      <td>1.110351</td>\n",
       "      <td>-1.722398</td>\n",
       "      <td>0.216317</td>\n",
       "      <td>-1.656465</td>\n",
       "      <td>2.169365</td>\n",
       "      <td>1.528372</td>\n",
       "      <td>1.804543</td>\n",
       "      <td>2.017908</td>\n",
       "      <td>-1.348882</td>\n",
       "      <td>21</td>\n",
       "    </tr>\n",
       "    <tr>\n",
       "      <th>35</th>\n",
       "      <td>-3.687436</td>\n",
       "      <td>2.065014</td>\n",
       "      <td>-3.687436</td>\n",
       "      <td>1.305344</td>\n",
       "      <td>0.816032</td>\n",
       "      <td>-2.413883</td>\n",
       "      <td>-4.085517</td>\n",
       "      <td>-0.180490</td>\n",
       "      <td>2.962884</td>\n",
       "      <td>2.746081</td>\n",
       "      <td>1.305344</td>\n",
       "      <td>-0.150293</td>\n",
       "      <td>0.377351</td>\n",
       "      <td>1.050447</td>\n",
       "      <td>21</td>\n",
       "    </tr>\n",
       "  </tbody>\n",
       "</table>\n",
       "</div>"
      ],
      "text/plain": [
       "           f1        f2        f3        f4        f5        f6        f7  \\\n",
       "169 -0.800315  2.920142 -0.800315 -1.557496 -2.193671  1.782765  1.898904   \n",
       "97   1.559896  1.078386  1.559896 -2.032555  1.408807  2.734227  1.772320   \n",
       "31   2.126218  0.242483  2.126218  2.253564  0.229970  0.573055 -2.632417   \n",
       "12   0.301793 -0.626603  0.301793  1.528372  0.043343  1.110351 -1.722398   \n",
       "35  -3.687436  2.065014 -3.687436  1.305344  0.816032 -2.413883 -4.085517   \n",
       "\n",
       "           f8        f9       f10       f11       f12       f13       f14  \\\n",
       "169 -0.028084 -2.198277  1.403814 -1.557496 -0.909287 -1.833341 -0.818953   \n",
       "97   0.228982  3.585245  1.613553 -2.032555 -3.344683 -0.093434 -0.626849   \n",
       "31  -0.747078  2.633389  1.391635  2.253564  0.389168 -0.409961 -1.393621   \n",
       "12   0.216317 -1.656465  2.169365  1.528372  1.804543  2.017908 -1.348882   \n",
       "35  -0.180490  2.962884  2.746081  1.305344 -0.150293  0.377351  1.050447   \n",
       "\n",
       "    fconst  \n",
       "169     21  \n",
       "97      21  \n",
       "31      21  \n",
       "12      21  \n",
       "35      21  "
      ]
     },
     "execution_count": 4,
     "metadata": {},
     "output_type": "execute_result"
    }
   ],
   "source": [
    "X_train.head()"
   ]
  },
  {
   "cell_type": "markdown",
   "id": "yabRbSMvCwkJ",
   "metadata": {
    "id": "yabRbSMvCwkJ"
   },
   "source": [
    "### Recursive feature elimination\n",
    "\n",
    "[Recursive feature elimination (RFE)](https://scikit-learn.org/stable/modules/feature_selection.html#rfe) is a feature selection strategy that consists of the following steps:\n",
    "\n",
    "1. Fit a model using all features available.\n",
    "2. Measure the feature importance.\n",
    "3. Eliminate (drop) the features with the least importance (a fixed number, or percentage) from the feature list.\n",
    "4. Go to #1 and repeat until the number of features is small enough.\n",
    "\n",
    "There are multiple classes available for RFE.\n",
    "For example:\n",
    "\n",
    "- [`Scikit-learn`](https://scikit-learn.org/stable/modules/classes.html#module-sklearn.feature_selection): \n",
    "  - Recursive feature elimination (RFE)\n",
    "  - Recursive feature elimination with cross-validation (RFECV)\n",
    "  - `SelectFromModel` feature selection\n",
    "  - Sequential Feature Selection (SFS)\n",
    "\n",
    "- [`Feature-engine`](https://feature-engine.readthedocs.io/en/1.1.x/selection/index.html):\n",
    "  - `RecursiveFeatureElimination`\n",
    "  - `RecursiveFeatureAddition`\n",
    "\n",
    "- [`Probatus`](https://github.com/ing-bank/probatus)\n",
    "  - At ING RPAA, we maintain an open-source package which provides handy functions for feature selection.\n",
    "  - [`ShapRFECV`](https://ing-bank.github.io/probatus/tutorials/nb_shap_feature_elimination.html) is similar to `sklearn.feature_selection.RFECV`, but it uses SHAP to measure feature importance. It also supports early stopping for XGBoost, LightGBM and CatBoost.\n",
    "  - [SHAP](https://github.com/slundberg/shap#readme) can measure the Shapley values for a variety of models to estimate the contribution of each feature to the model output and, therefore, their importance to the model.\n",
    "\n",
    "Below we use `probatus.feature_elimination.ShapRFECV`.\n",
    "\n",
    "At each iteration, this class will fit a `RandomForestClassifier` with 3-fold cross-validation (`cv=3`).\n",
    "\n",
    "It will measure the feature importance using SHAP and drop the lowest 20% of features (`step=0.2`).\n",
    "\n",
    "*What is the added value of ShapRFECV? Read our Medium blog post:*\n",
    "\n",
    "https://medium.com/ing-blog/open-sourcing-shaprfecv-improved-feature-selection-powered-by-shap-994fe7861560"
   ]
  },
  {
   "cell_type": "code",
   "execution_count": 5,
   "id": "ycd7vp2EPioX",
   "metadata": {
    "id": "ycd7vp2EPioX"
   },
   "outputs": [],
   "source": [
    "from probatus.feature_elimination import ShapRFECV\n",
    "from sklearn.ensemble import RandomForestClassifier"
   ]
  },
  {
   "cell_type": "code",
   "execution_count": 8,
   "id": "MVNwnmvAf_5S",
   "metadata": {
    "id": "MVNwnmvAf_5S"
   },
   "outputs": [],
   "source": [
    "# Initiate a classifier\n",
    "estimator = RandomForestClassifier(max_depth=3, random_state=42)\n",
    "\n",
    "# Set up a feature eliminator\n",
    "shap_feature_eliminator = ShapRFECV(clf=estimator, step=0.2, cv=3, scoring='roc_auc')\n",
    "\n",
    "# Fit and compute the SHAP feature eliminator\n",
    "report = shap_feature_eliminator.fit_compute(X_train, y_train)"
   ]
  },
  {
   "cell_type": "markdown",
   "id": "XU74DxaxZNVy",
   "metadata": {
    "id": "XU74DxaxZNVy"
   },
   "source": [
    "`ShapRFECV` provides a handy tool to plot the train and validation scores as a function of the number of features.\n",
    "The results typically have the following patterns:\n",
    "\n",
    "- As the number of features decreases, initially the model performance is stable, since we are dropping features that do not contribute substantially to the model output.\n",
    "- The overfit (difference between train and validation scores) typically decreases with lower number of features.\n",
    "- Sometimes the performance shows a slight increase as multi-colinear features are dropped.\n",
    "- Finally, as the most predictive features are dropped, the performance decreases abruptly. "
   ]
  },
  {
   "cell_type": "code",
   "execution_count": 9,
   "id": "Eblyc7De7IKI",
   "metadata": {
    "colab": {
     "base_uri": "https://localhost:8080/",
     "height": 295
    },
    "id": "Eblyc7De7IKI",
    "outputId": "ef954c50-3311-46f1-d577-9dda30665f43"
   },
   "outputs": [
    {
     "data": {
      "image/png": "[encoded data removed]",
      "text/plain": [
       "<Figure size 864x360 with 1 Axes>"
      ]
     },
     "metadata": {
      "needs_background": "light"
     },
     "output_type": "display_data"
    }
   ],
   "source": [
    "# Visulize the feature elimination process \n",
    "performance_plot = shap_feature_eliminator.plot(figsize=(12,5))"
   ]
  },
  {
   "cell_type": "markdown",
   "id": "PAIK7RvPZ9fp",
   "metadata": {
    "id": "PAIK7RvPZ9fp"
   },
   "source": [
    "There are no hard guidelines on which number of features you should pick for your model.\n",
    "\n",
    "The results of RFE usually need to be manually analysed, and the decision is typically due to a combination of technical and business reasons (e.g. burden of monitoring large number of features in production).\n",
    "\n",
    "When discussing the results in detail, you can also look at which features are kept at each RFE step:"
   ]
  },
  {
   "cell_type": "code",
   "execution_count": 11,
   "id": "b3SjYFTYbwfl",
   "metadata": {
    "colab": {
     "base_uri": "https://localhost:8080/",
     "height": 485
    },
    "id": "b3SjYFTYbwfl",
    "outputId": "3a1c10c1-4b66-4dda-9492-9ed15c1ddfb0"
   },
   "outputs": [
    {
     "data": {
      "text/html": [
       "<div>\n",
       "<style scoped>\n",
       "    .dataframe tbody tr th:only-of-type {\n",
       "        vertical-align: middle;\n",
       "    }\n",
       "\n",
       "    .dataframe tbody tr th {\n",
       "        vertical-align: top;\n",
       "    }\n",
       "\n",
       "    .dataframe thead th {\n",
       "        text-align: right;\n",
       "    }\n",
       "</style>\n",
       "<table border=\"1\" class=\"dataframe\">\n",
       "  <thead>\n",
       "    <tr style=\"text-align: right;\">\n",
       "      <th></th>\n",
       "      <th>num_features</th>\n",
       "      <th>features_set</th>\n",
       "      <th>eliminated_features</th>\n",
       "      <th>train_metric_mean</th>\n",
       "      <th>train_metric_std</th>\n",
       "      <th>val_metric_mean</th>\n",
       "      <th>val_metric_std</th>\n",
       "    </tr>\n",
       "  </thead>\n",
       "  <tbody>\n",
       "    <tr>\n",
       "      <th>1</th>\n",
       "      <td>15</td>\n",
       "      <td>[f1, f2, f3, f4, f5, f6, f7, f8, f9, f10, f11,...</td>\n",
       "      <td>[f10, f13, fconst]</td>\n",
       "      <td>0.992</td>\n",
       "      <td>0.002</td>\n",
       "      <td>0.911</td>\n",
       "      <td>0.021</td>\n",
       "    </tr>\n",
       "    <tr>\n",
       "      <th>2</th>\n",
       "      <td>12</td>\n",
       "      <td>[f9, f12, f11, f7, f2, f4, f6, f3, f14, f1, f5...</td>\n",
       "      <td>[f2, f7]</td>\n",
       "      <td>0.992</td>\n",
       "      <td>0.003</td>\n",
       "      <td>0.899</td>\n",
       "      <td>0.014</td>\n",
       "    </tr>\n",
       "    <tr>\n",
       "      <th>3</th>\n",
       "      <td>10</td>\n",
       "      <td>[f9, f11, f12, f4, f6, f3, f14, f1, f5, f8]</td>\n",
       "      <td>[f6, f8]</td>\n",
       "      <td>0.991</td>\n",
       "      <td>0.002</td>\n",
       "      <td>0.914</td>\n",
       "      <td>0.010</td>\n",
       "    </tr>\n",
       "    <tr>\n",
       "      <th>4</th>\n",
       "      <td>8</td>\n",
       "      <td>[f9, f11, f12, f4, f3, f14, f1, f5]</td>\n",
       "      <td>[f9]</td>\n",
       "      <td>0.988</td>\n",
       "      <td>0.001</td>\n",
       "      <td>0.913</td>\n",
       "      <td>0.020</td>\n",
       "    </tr>\n",
       "    <tr>\n",
       "      <th>5</th>\n",
       "      <td>7</td>\n",
       "      <td>[f12, f11, f4, f3, f14, f1, f5]</td>\n",
       "      <td>[f3]</td>\n",
       "      <td>0.987</td>\n",
       "      <td>0.000</td>\n",
       "      <td>0.913</td>\n",
       "      <td>0.016</td>\n",
       "    </tr>\n",
       "    <tr>\n",
       "      <th>6</th>\n",
       "      <td>6</td>\n",
       "      <td>[f12, f11, f4, f14, f1, f5]</td>\n",
       "      <td>[f14]</td>\n",
       "      <td>0.986</td>\n",
       "      <td>0.000</td>\n",
       "      <td>0.898</td>\n",
       "      <td>0.026</td>\n",
       "    </tr>\n",
       "    <tr>\n",
       "      <th>7</th>\n",
       "      <td>5</td>\n",
       "      <td>[f12, f11, f4, f1, f5]</td>\n",
       "      <td>[f11]</td>\n",
       "      <td>0.979</td>\n",
       "      <td>0.005</td>\n",
       "      <td>0.879</td>\n",
       "      <td>0.030</td>\n",
       "    </tr>\n",
       "    <tr>\n",
       "      <th>8</th>\n",
       "      <td>4</td>\n",
       "      <td>[f1, f4, f5, f12]</td>\n",
       "      <td>[f1]</td>\n",
       "      <td>0.981</td>\n",
       "      <td>0.001</td>\n",
       "      <td>0.877</td>\n",
       "      <td>0.036</td>\n",
       "    </tr>\n",
       "    <tr>\n",
       "      <th>9</th>\n",
       "      <td>3</td>\n",
       "      <td>[f4, f5, f12]</td>\n",
       "      <td>[f12]</td>\n",
       "      <td>0.965</td>\n",
       "      <td>0.006</td>\n",
       "      <td>0.865</td>\n",
       "      <td>0.041</td>\n",
       "    </tr>\n",
       "    <tr>\n",
       "      <th>10</th>\n",
       "      <td>2</td>\n",
       "      <td>[f4, f5]</td>\n",
       "      <td>[f4]</td>\n",
       "      <td>0.964</td>\n",
       "      <td>0.012</td>\n",
       "      <td>0.850</td>\n",
       "      <td>0.040</td>\n",
       "    </tr>\n",
       "    <tr>\n",
       "      <th>11</th>\n",
       "      <td>1</td>\n",
       "      <td>[f5]</td>\n",
       "      <td>[]</td>\n",
       "      <td>0.927</td>\n",
       "      <td>0.013</td>\n",
       "      <td>0.726</td>\n",
       "      <td>0.070</td>\n",
       "    </tr>\n",
       "  </tbody>\n",
       "</table>\n",
       "</div>"
      ],
      "text/plain": [
       "    num_features                                       features_set  \\\n",
       "1             15  [f1, f2, f3, f4, f5, f6, f7, f8, f9, f10, f11,...   \n",
       "2             12  [f9, f12, f11, f7, f2, f4, f6, f3, f14, f1, f5...   \n",
       "3             10        [f9, f11, f12, f4, f6, f3, f14, f1, f5, f8]   \n",
       "4              8                [f9, f11, f12, f4, f3, f14, f1, f5]   \n",
       "5              7                    [f12, f11, f4, f3, f14, f1, f5]   \n",
       "6              6                        [f12, f11, f4, f14, f1, f5]   \n",
       "7              5                             [f12, f11, f4, f1, f5]   \n",
       "8              4                                  [f1, f4, f5, f12]   \n",
       "9              3                                      [f4, f5, f12]   \n",
       "10             2                                           [f4, f5]   \n",
       "11             1                                               [f5]   \n",
       "\n",
       "   eliminated_features  train_metric_mean  train_metric_std  val_metric_mean  \\\n",
       "1   [f10, f13, fconst]              0.992             0.002            0.911   \n",
       "2             [f2, f7]              0.992             0.003            0.899   \n",
       "3             [f6, f8]              0.991             0.002            0.914   \n",
       "4                 [f9]              0.988             0.001            0.913   \n",
       "5                 [f3]              0.987             0.000            0.913   \n",
       "6                [f14]              0.986             0.000            0.898   \n",
       "7                [f11]              0.979             0.005            0.879   \n",
       "8                 [f1]              0.981             0.001            0.877   \n",
       "9                [f12]              0.965             0.006            0.865   \n",
       "10                [f4]              0.964             0.012            0.850   \n",
       "11                  []              0.927             0.013            0.726   \n",
       "\n",
       "    val_metric_std  \n",
       "1            0.021  \n",
       "2            0.014  \n",
       "3            0.010  \n",
       "4            0.020  \n",
       "5            0.016  \n",
       "6            0.026  \n",
       "7            0.030  \n",
       "8            0.036  \n",
       "9            0.041  \n",
       "10           0.040  \n",
       "11           0.070  "
      ]
     },
     "execution_count": 11,
     "metadata": {},
     "output_type": "execute_result"
    }
   ],
   "source": [
    "report"
   ]
  },
  {
   "cell_type": "code",
   "execution_count": 10,
   "id": "2z5q1sh_jFbA",
   "metadata": {
    "colab": {
     "base_uri": "https://localhost:8080/",
     "height": 390
    },
    "id": "2z5q1sh_jFbA",
    "outputId": "368be18b-c954-48b8-f7b0-ebc637ce5b64"
   },
   "outputs": [
    {
     "data": {
      "text/html": [
       "<div>\n",
       "<style scoped>\n",
       "    .dataframe tbody tr th:only-of-type {\n",
       "        vertical-align: middle;\n",
       "    }\n",
       "\n",
       "    .dataframe tbody tr th {\n",
       "        vertical-align: top;\n",
       "    }\n",
       "\n",
       "    .dataframe thead th {\n",
       "        text-align: right;\n",
       "    }\n",
       "</style>\n",
       "<table border=\"1\" class=\"dataframe\">\n",
       "  <thead>\n",
       "    <tr style=\"text-align: right;\">\n",
       "      <th></th>\n",
       "      <th>num_features</th>\n",
       "      <th>features_set</th>\n",
       "      <th>val_metric_mean</th>\n",
       "    </tr>\n",
       "  </thead>\n",
       "  <tbody>\n",
       "    <tr>\n",
       "      <th>1</th>\n",
       "      <td>15</td>\n",
       "      <td>[f1, f2, f3, f4, f5, f6, f7, f8, f9, f10, f11,...</td>\n",
       "      <td>0.905</td>\n",
       "    </tr>\n",
       "    <tr>\n",
       "      <th>2</th>\n",
       "      <td>12</td>\n",
       "      <td>[f13, f1, f11, f9, f12, f3, f6, f5, f7, f8, f1...</td>\n",
       "      <td>0.916</td>\n",
       "    </tr>\n",
       "    <tr>\n",
       "      <th>3</th>\n",
       "      <td>10</td>\n",
       "      <td>[f8, f1, f11, f12, f9, f5, f6, f3, f14, f4]</td>\n",
       "      <td>0.912</td>\n",
       "    </tr>\n",
       "    <tr>\n",
       "      <th>4</th>\n",
       "      <td>8</td>\n",
       "      <td>[f1, f9, f11, f12, f5, f3, f14, f4]</td>\n",
       "      <td>0.913</td>\n",
       "    </tr>\n",
       "    <tr>\n",
       "      <th>5</th>\n",
       "      <td>7</td>\n",
       "      <td>[f1, f9, f11, f12, f5, f3, f4]</td>\n",
       "      <td>0.912</td>\n",
       "    </tr>\n",
       "    <tr>\n",
       "      <th>6</th>\n",
       "      <td>6</td>\n",
       "      <td>[f1, f11, f12, f5, f3, f4]</td>\n",
       "      <td>0.891</td>\n",
       "    </tr>\n",
       "    <tr>\n",
       "      <th>7</th>\n",
       "      <td>5</td>\n",
       "      <td>[f1, f12, f5, f3, f4]</td>\n",
       "      <td>0.888</td>\n",
       "    </tr>\n",
       "    <tr>\n",
       "      <th>8</th>\n",
       "      <td>4</td>\n",
       "      <td>[f1, f12, f3, f5]</td>\n",
       "      <td>0.869</td>\n",
       "    </tr>\n",
       "    <tr>\n",
       "      <th>9</th>\n",
       "      <td>3</td>\n",
       "      <td>[f12, f3, f5]</td>\n",
       "      <td>0.879</td>\n",
       "    </tr>\n",
       "    <tr>\n",
       "      <th>10</th>\n",
       "      <td>2</td>\n",
       "      <td>[f3, f5]</td>\n",
       "      <td>0.829</td>\n",
       "    </tr>\n",
       "    <tr>\n",
       "      <th>11</th>\n",
       "      <td>1</td>\n",
       "      <td>[f5]</td>\n",
       "      <td>0.726</td>\n",
       "    </tr>\n",
       "  </tbody>\n",
       "</table>\n",
       "</div>"
      ],
      "text/plain": [
       "    num_features                                       features_set  \\\n",
       "1             15  [f1, f2, f3, f4, f5, f6, f7, f8, f9, f10, f11,...   \n",
       "2             12  [f13, f1, f11, f9, f12, f3, f6, f5, f7, f8, f1...   \n",
       "3             10        [f8, f1, f11, f12, f9, f5, f6, f3, f14, f4]   \n",
       "4              8                [f1, f9, f11, f12, f5, f3, f14, f4]   \n",
       "5              7                     [f1, f9, f11, f12, f5, f3, f4]   \n",
       "6              6                         [f1, f11, f12, f5, f3, f4]   \n",
       "7              5                              [f1, f12, f5, f3, f4]   \n",
       "8              4                                  [f1, f12, f3, f5]   \n",
       "9              3                                      [f12, f3, f5]   \n",
       "10             2                                           [f3, f5]   \n",
       "11             1                                               [f5]   \n",
       "\n",
       "    val_metric_mean  \n",
       "1             0.905  \n",
       "2             0.916  \n",
       "3             0.912  \n",
       "4             0.913  \n",
       "5             0.912  \n",
       "6             0.891  \n",
       "7             0.888  \n",
       "8             0.869  \n",
       "9             0.879  \n",
       "10            0.829  \n",
       "11            0.726  "
      ]
     },
     "execution_count": 10,
     "metadata": {},
     "output_type": "execute_result"
    }
   ],
   "source": [
    "# Want to take a closer look and discuss with business?\n",
    "report[['num_features', 'features_set', 'val_metric_mean']]"
   ]
  },
  {
   "cell_type": "markdown",
   "id": "68084859",
   "metadata": {},
   "source": [
    "Handy `get_reduced_features_set` function:"
   ]
  },
  {
   "cell_type": "code",
   "execution_count": 15,
   "id": "tkmpkF2LQpYU",
   "metadata": {
    "colab": {
     "base_uri": "https://localhost:8080/"
    },
    "id": "tkmpkF2LQpYU",
    "outputId": "d377eae0-0a78-448f-90dc-764ddc58d876"
   },
   "outputs": [
    {
     "name": "stdout",
     "output_type": "stream",
     "text": [
      "Here you go, these are the features selected by you and business:\n",
      "['f12', 'f11', 'f4', 'f3', 'f14', 'f1', 'f5']\n"
     ]
    }
   ],
   "source": [
    "# Get final feature set (imagine business is happy with 8 features in production)\n",
    "final_features_set = shap_feature_eliminator.get_reduced_features_set(num_features=7)\n",
    "print(f\"Here you go, these are the features selected by you and business:\\n{final_features_set}\")"
   ]
  },
  {
   "cell_type": "markdown",
   "id": "hG4cZmZXf3I7",
   "metadata": {
    "id": "hG4cZmZXf3I7"
   },
   "source": [
    "#### What does the plot look like in a real case?\n",
    "\n",
    "![real_case_plot](../pictures/shap_RFE_real_case.png)"
   ]
  },
  {
   "cell_type": "markdown",
   "id": "35aecaad",
   "metadata": {},
   "source": [
    "> If you want to know more about `ShapRFECV`, there's a great [introduction notebook](https://ing-bank.github.io/probatus/tutorials/nb_shap_feature_elimination.html) in the documentation which you follow."
   ]
  },
  {
   "cell_type": "markdown",
   "id": "vEJPPi7hj1CU",
   "metadata": {
    "id": "vEJPPi7hj1CU"
   },
   "source": [
    "### Please try this at home!\n",
    "\n",
    "- Build a wrapper to use `ShapRFECV` in a `Pipeline` and add it to the current pipeline.\n",
    "- Create your own feature selection pipeline using a new data set."
   ]
  },
  {
   "cell_type": "markdown",
   "id": "5380c3d1-f1e7-4a71-8f90-aad4019b82b3",
   "metadata": {
    "id": "5380c3d1-f1e7-4a71-8f90-aad4019b82b3"
   },
   "source": [
    "### Final remark\n",
    "\n",
    "Feature elimination is often a trade-off between model performance and the risk / burden of working with a large number of features. \n",
    "\n",
    "- It is important to discuss this trade-off with the stakeholders and ensure they understand what is at stake.\n",
    "- Stakeholders, model developers, and data experts should be involved in the final decision. \n"
   ]
  },
  {
   "cell_type": "markdown",
   "id": "25a93109-8dcc-422f-8bbc-7ef0f5b73b76",
   "metadata": {
    "id": "25a93109-8dcc-422f-8bbc-7ef0f5b73b76"
   },
   "source": [
    "### Sources\n",
    "\n",
    "- https://feature-engine.readthedocs.io/en/1.1.x/selection/index.html\n",
    "- https://scikit-learn.org/stable/modules/classes.html#module-sklearn.feature_selection\n",
    "- https://ing-bank.github.io/probatus/api/feature_elimination.html\n",
    "\n",
    "Reading:\n",
    "\n",
    "- https://www.mihaileric.com/posts/feature-selection/\n",
    "- https://www.kdnuggets.com/2019/10/feature-selection-beyond-feature-importance.html\n",
    "- https://towardsdatascience.com/2-types-of-duplicate-features-in-machine-learning-2931de6c949b\n",
    "- https://programmer.group/feature-selection-of-python-sklearner-learning.html\n",
    "- https://www.r-bloggers.com/2017/01/feature-selection-in-machine-learning-breast-cancer-datasets/\n",
    "- https://mrtz.org/nips17/#/97\n",
    "- https://memegenerator.net/instance/80593848/ben-parker-with-many-features-comes-great-feature-selection\n"
   ]
  },
  {
   "cell_type": "markdown",
   "id": "82065a2f",
   "metadata": {
    "id": "sNjNz8Fyf0OK"
   },
   "source": [
    "End of this notebook."
   ]
  }
 ],
 "metadata": {
  "colab": {
   "collapsed_sections": [],
   "name": "code-breakfast.ipynb",
   "provenance": [],
   "toc_visible": true
  },
  "kernelspec": {
   "display_name": "Python 3 (ipykernel)",
   "language": "python",
   "name": "python3"
  },
  "language_info": {
   "codemirror_mode": {
    "name": "ipython",
    "version": 3
   },
   "file_extension": ".py",
   "mimetype": "text/x-python",
   "name": "python",
   "nbconvert_exporter": "python",
   "pygments_lexer": "ipython3",
   "version": "3.7.13"
  },
  "toc-autonumbering": true,
  "toc-showcode": false,
  "toc-showmarkdowntxt": false,
  "toc-showtags": false
 },
 "nbformat": 4,
 "nbformat_minor": 5
}
