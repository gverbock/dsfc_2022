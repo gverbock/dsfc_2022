{
  "cells": [
    {
      "cell_type": "markdown",
      "id": "9c84d037-9869-4bb2-9018-3e1597072fd2",
      "metadata": {
        "id": "9c84d037-9869-4bb2-9018-3e1597072fd2"
      },
      "source": [
        "# Feature Quality Selection using Feature-Engine\n",
        "<span style=\"color:skyblue\"> Thanks to João Pinto Moura and Tingting Qiao (ING RPAA) for material.</span>\n",
        "\n",
        "\n",
        "Goal of the notebook: Show how to use the functionalities of feature-engine to remove features based on `quality criteria`:\n",
        "- Correlation.\n",
        "- Uniqueness.\n",
        "- `Feature stability`\n",
        "- Relationship with the target.\n",
        "- ...\n"
      ]
    },
    {
      "cell_type": "markdown",
      "id": "cabfc3df-3202-4e0a-a0b4-68d1a3d8b62d",
      "metadata": {
        "id": "cabfc3df-3202-4e0a-a0b4-68d1a3d8b62d"
      },
      "source": [
        "### Feature selection is an important part of the modelling pipeline\n",
        "\n",
        "- Feature generation is important because it is the basis of modelling; it provides the required `information` to you model.\n",
        "- Features are often `generated in an automated way` this results in:\n",
        "  - `Many features`.\n",
        "  - Feature containing little to `no information` on the target.\n",
        "  - `Correlated` and duplicated features.\n",
        "  - `Meaningless` features (Statistically of from a Business point of view) \n",
        "\n",
        "### Never blindly use all features \n",
        "\n",
        "When using Tree based approaches, a large amount of features can be used but:\n",
        "\n",
        "- You want to work with only the `most relevant features` and disregard the ones that have little impact.\n",
        "  - It can be hard to find stable estimates of the importance of [multi collinear features](https://en.wikipedia.org/wiki/Multicollinearity);\n",
        "  - Each feature must be monitored in production, which is time consuming.\n",
        "- You want to remove feature with `poor quality`.\n",
        "  - Little variance.\n",
        "  - Drifted features.\n",
        "  - ...\n",
        "\n",
        "### Use a quality selection pipeline\n",
        "\n",
        "There are functionalities for feature selection based on quality criteria which can help you reduce the number of features to a smaller set of more interesting ones.\n",
        "\n",
        "- We will use well known packages, like `scikit-learn` and `feature-engine` to provide some basic examples.\n",
        "- We focus on `binary supervised classification` settings, even though most techniques can also be applied in other ones.\n",
        "- We ignore dimensionality reduction methods, since they usually make features hard to understand and therefore decrease model interpretation."
      ]
    },
    {
      "cell_type": "markdown",
      "id": "bVyi3JIgBSlz",
      "metadata": {
        "id": "bVyi3JIgBSlz"
      },
      "source": [
        "# Set-up"
      ]
    },
    {
      "cell_type": "markdown",
      "id": "vEp4l6ZJsIkB",
      "metadata": {
        "id": "vEp4l6ZJsIkB"
      },
      "source": [
        "### Import packages"
      ]
    },
    {
      "cell_type": "code",
      "execution_count": 1,
      "id": "O9_KdhYU3Csi",
      "metadata": {
        "id": "O9_KdhYU3Csi"
      },
      "outputs": [],
      "source": [
        "import pandas as pd\n",
        "import math\n",
        "\n",
        "from datetime import date\n",
        "from sklearn.datasets import make_classification\n",
        "from sklearn.model_selection import train_test_split\n",
        "from sklearn.metrics import roc_auc_score\n",
        "from sklearn.tree import DecisionTreeClassifier"
      ]
    },
    {
      "cell_type": "markdown",
      "id": "JQfIaahPsP9O",
      "metadata": {
        "id": "JQfIaahPsP9O"
      },
      "source": [
        "### Generate a toy dataset\n",
        "\n",
        "We start by generating a dataset that has a lot of the most commonly encountered issues:\n",
        "\n",
        "- 8 informative features (`n_informative=8`)\n",
        "- 2 features are duplicates of others (`n_repeated=2`)\n",
        "- 2 features have a high correlation with others (`n_redundant=2`)\n",
        "- 2 features have no relation with the target (`n_features - (n_informative + n_redundant + n_repeated)`)\n",
        "- 1 constant feature (`fconst`)\n",
        "\n",
        "We will introduce you to a few selectors that are able to automatically find and drop the less interesting features."
      ]
    },
    {
      "cell_type": "code",
      "execution_count": 2,
      "id": "OoDM2yNemcQC",
      "metadata": {
        "id": "OoDM2yNemcQC"
      },
      "outputs": [],
      "source": [
        "def make_df(n_samples, n_features, n_informative, n_redundant, n_repeated):\n",
        "    # Define number of features in the dataset\n",
        "    feature_names = [f'f{idx}' for idx in range(1, n_features+1)]\n",
        "\n",
        "    # Prepare sample dataset\n",
        "    X, y = make_classification(n_samples=n_samples, n_features=n_features, n_informative=n_informative, \n",
        "                               n_redundant=n_redundant, n_repeated=n_repeated, n_clusters_per_class=1, random_state=42)\n",
        "\n",
        "    X = pd.DataFrame(X, columns=feature_names)\n",
        "    # Add a constant feature\n",
        "    X = X.assign(fconst='21')\n",
        "\n",
        "    # Create a date (for example data collection time)\n",
        "    X['time'] = [date(year, 1, 1) for year in range(1000, 1000+n_samples)]\n",
        "    # and a drifted feature\n",
        "    def drift(i,shift=500, scaler=100, multiplier=5):\n",
        "        scaled = (i - shift) /scaler\n",
        "        lr = math.exp(scaled) / (1 + math.exp(scaled))\n",
        "        return lr * multiplier\n",
        "\n",
        "    X['fdrifted'] =  [drift(i) for i in range(n_samples)] + X['f1']\n",
        "    \n",
        "    # Let's shuffle the dataframe and reset the index to remove the correlation\n",
        "    # between the index and the time variables.\n",
        "    X = X.sample(frac=1, random_state=42).reset_index(drop=True)\n",
        "\n",
        "    # Split the dataset into train and test \n",
        "    X_train, X_test, y_train, y_test = train_test_split(X, y, test_size=0.3, random_state=42)\n",
        "\n",
        "    return X_train, X_test, y_train, y_test"
      ]
    },
    {
      "cell_type": "code",
      "execution_count": 3,
      "id": "Uo-TafMPkOf8",
      "metadata": {
        "id": "Uo-TafMPkOf8"
      },
      "outputs": [],
      "source": [
        "X_train, X_test, y_train, y_test = make_df(n_samples=1000, n_features=14, n_informative=8, n_redundant=2, n_repeated=2)"
      ]
    },
    {
      "cell_type": "code",
      "execution_count": 60,
      "id": "Sy7w2l6hkRHo",
      "metadata": {
        "colab": {
          "base_uri": "https://localhost:8080/",
          "height": 268
        },
        "id": "Sy7w2l6hkRHo",
        "outputId": "7a6b2792-72f1-43fa-c86c-656da0c20253"
      },
      "outputs": [
        {
          "data": {
            "text/html": [
              "<div>\n",
              "<style scoped>\n",
              "    .dataframe tbody tr th:only-of-type {\n",
              "        vertical-align: middle;\n",
              "    }\n",
              "\n",
              "    .dataframe tbody tr th {\n",
              "        vertical-align: top;\n",
              "    }\n",
              "\n",
              "    .dataframe thead th {\n",
              "        text-align: right;\n",
              "    }\n",
              "</style>\n",
              "<table border=\"1\" class=\"dataframe\">\n",
              "  <thead>\n",
              "    <tr style=\"text-align: right;\">\n",
              "      <th></th>\n",
              "      <th>f1</th>\n",
              "      <th>f2</th>\n",
              "      <th>f3</th>\n",
              "      <th>f4</th>\n",
              "      <th>f5</th>\n",
              "      <th>f6</th>\n",
              "      <th>f7</th>\n",
              "      <th>f8</th>\n",
              "      <th>f9</th>\n",
              "      <th>f10</th>\n",
              "      <th>f11</th>\n",
              "      <th>f12</th>\n",
              "      <th>f13</th>\n",
              "      <th>f14</th>\n",
              "      <th>fconst</th>\n",
              "      <th>time</th>\n",
              "      <th>fdrifted</th>\n",
              "    </tr>\n",
              "  </thead>\n",
              "  <tbody>\n",
              "    <tr>\n",
              "      <th>541</th>\n",
              "      <td>0.315208</td>\n",
              "      <td>0.165973</td>\n",
              "      <td>-0.455265</td>\n",
              "      <td>1.230478</td>\n",
              "      <td>-2.355761</td>\n",
              "      <td>0.532805</td>\n",
              "      <td>0.165973</td>\n",
              "      <td>-1.459281</td>\n",
              "      <td>-0.424927</td>\n",
              "      <td>-0.481113</td>\n",
              "      <td>0.532805</td>\n",
              "      <td>1.181398</td>\n",
              "      <td>-0.466431</td>\n",
              "      <td>0.522459</td>\n",
              "      <td>21</td>\n",
              "      <td>1271-01-01</td>\n",
              "      <td>0.774981</td>\n",
              "    </tr>\n",
              "    <tr>\n",
              "      <th>440</th>\n",
              "      <td>3.182522</td>\n",
              "      <td>2.468385</td>\n",
              "      <td>-3.860928</td>\n",
              "      <td>1.912530</td>\n",
              "      <td>0.325369</td>\n",
              "      <td>0.646273</td>\n",
              "      <td>2.468385</td>\n",
              "      <td>0.722990</td>\n",
              "      <td>-0.103920</td>\n",
              "      <td>2.269616</td>\n",
              "      <td>0.646273</td>\n",
              "      <td>-2.103202</td>\n",
              "      <td>0.627392</td>\n",
              "      <td>-1.660623</td>\n",
              "      <td>21</td>\n",
              "      <td>1223-01-01</td>\n",
              "      <td>3.477358</td>\n",
              "    </tr>\n",
              "    <tr>\n",
              "      <th>482</th>\n",
              "      <td>0.989527</td>\n",
              "      <td>2.398190</td>\n",
              "      <td>-0.542532</td>\n",
              "      <td>1.868272</td>\n",
              "      <td>1.984632</td>\n",
              "      <td>1.989290</td>\n",
              "      <td>2.398190</td>\n",
              "      <td>-1.285305</td>\n",
              "      <td>-0.633444</td>\n",
              "      <td>2.369770</td>\n",
              "      <td>1.989290</td>\n",
              "      <td>-0.191011</td>\n",
              "      <td>-0.485791</td>\n",
              "      <td>-1.693060</td>\n",
              "      <td>21</td>\n",
              "      <td>1011-01-01</td>\n",
              "      <td>1.026853</td>\n",
              "    </tr>\n",
              "    <tr>\n",
              "      <th>422</th>\n",
              "      <td>-0.624577</td>\n",
              "      <td>1.550901</td>\n",
              "      <td>-2.709133</td>\n",
              "      <td>-1.572099</td>\n",
              "      <td>-0.799271</td>\n",
              "      <td>-0.586931</td>\n",
              "      <td>1.550901</td>\n",
              "      <td>-1.209859</td>\n",
              "      <td>-0.512580</td>\n",
              "      <td>-0.391629</td>\n",
              "      <td>-0.586931</td>\n",
              "      <td>-1.544796</td>\n",
              "      <td>-0.359699</td>\n",
              "      <td>-0.317450</td>\n",
              "      <td>21</td>\n",
              "      <td>1483-01-01</td>\n",
              "      <td>1.663433</td>\n",
              "    </tr>\n",
              "    <tr>\n",
              "      <th>778</th>\n",
              "      <td>-2.353799</td>\n",
              "      <td>-0.968235</td>\n",
              "      <td>3.755823</td>\n",
              "      <td>-1.040770</td>\n",
              "      <td>-1.870091</td>\n",
              "      <td>-3.372080</td>\n",
              "      <td>-0.968235</td>\n",
              "      <td>-0.929689</td>\n",
              "      <td>0.096736</td>\n",
              "      <td>1.034186</td>\n",
              "      <td>-3.372080</td>\n",
              "      <td>2.373450</td>\n",
              "      <td>0.074004</td>\n",
              "      <td>3.116186</td>\n",
              "      <td>21</td>\n",
              "      <td>1258-01-01</td>\n",
              "      <td>-1.945498</td>\n",
              "    </tr>\n",
              "  </tbody>\n",
              "</table>\n",
              "</div>"
            ],
            "text/plain": [
              "           f1        f2        f3        f4        f5        f6        f7  \\\n",
              "541  0.315208  0.165973 -0.455265  1.230478 -2.355761  0.532805  0.165973   \n",
              "440  3.182522  2.468385 -3.860928  1.912530  0.325369  0.646273  2.468385   \n",
              "482  0.989527  2.398190 -0.542532  1.868272  1.984632  1.989290  2.398190   \n",
              "422 -0.624577  1.550901 -2.709133 -1.572099 -0.799271 -0.586931  1.550901   \n",
              "778 -2.353799 -0.968235  3.755823 -1.040770 -1.870091 -3.372080 -0.968235   \n",
              "\n",
              "           f8        f9       f10       f11       f12       f13       f14  \\\n",
              "541 -1.459281 -0.424927 -0.481113  0.532805  1.181398 -0.466431  0.522459   \n",
              "440  0.722990 -0.103920  2.269616  0.646273 -2.103202  0.627392 -1.660623   \n",
              "482 -1.285305 -0.633444  2.369770  1.989290 -0.191011 -0.485791 -1.693060   \n",
              "422 -1.209859 -0.512580 -0.391629 -0.586931 -1.544796 -0.359699 -0.317450   \n",
              "778 -0.929689  0.096736  1.034186 -3.372080  2.373450  0.074004  3.116186   \n",
              "\n",
              "    fconst        time  fdrifted  \n",
              "541     21  1271-01-01  0.774981  \n",
              "440     21  1223-01-01  3.477358  \n",
              "482     21  1011-01-01  1.026853  \n",
              "422     21  1483-01-01  1.663433  \n",
              "778     21  1258-01-01 -1.945498  "
            ]
          },
          "execution_count": 60,
          "metadata": {},
          "output_type": "execute_result"
        }
      ],
      "source": [
        "X_train.head()"
      ]
    },
    {
      "cell_type": "markdown",
      "id": "exyLc04wZ6zA",
      "metadata": {
        "id": "exyLc04wZ6zA"
      },
      "source": [
        "### Install `feature-engine`\n",
        "\n",
        "`scikit-learn` has [some feature selectors](https://scikit-learn.org/stable/modules/classes.html#module-sklearn.feature_selection), but the choice is relatively poor.\n",
        "\n",
        "One great library is [feature-engine](https://feature-engine.readthedocs.io/en/1.1.x/selection/index.html).\n",
        "This includes a large and useful variety of feature selectors which we frequently use in RPAA projects.\n",
        "It is compatible with the `scikit-learn` pipeline syntax, so it is very easy to integrate into most projects.\n",
        "\n",
        "Let's install it:"
      ]
    },
    {
      "cell_type": "code",
      "execution_count": 61,
      "id": "CC-0NJENlBFv",
      "metadata": {
        "colab": {
          "base_uri": "https://localhost:8080/"
        },
        "id": "CC-0NJENlBFv",
        "outputId": "8eb1c225-38b3-46b8-8bec-397ef70c37f4"
      },
      "outputs": [],
      "source": [
        "#! pip install feature_engine\n",
        "#! pip install probatus"
      ]
    },
    {
      "cell_type": "markdown",
      "id": "kjx9xPIjeDK3",
      "metadata": {
        "id": "kjx9xPIjeDK3"
      },
      "source": [
        "# Constant or low variance features\n",
        "\n",
        "Constant features, or features with very low variance, generally have little information that models can learn from.\n",
        "As such we can safely drop them from the modelling dataset.\n",
        "\n",
        "\n",
        "Here we use `feature_engine.selection.DropConstantFeatures` to find and drop the `fconst` constant feature which we added to the dataset. \n",
        "This class drops all features which have the same value in more than a fraction `tol` of rows of the total.\n",
        "\n",
        "This class is roughly equivalent to `sklearn.feature_selection.VarianceThreshold`."
      ]
    },
    {
      "cell_type": "code",
      "execution_count": 62,
      "id": "rlPUTozrxAW2",
      "metadata": {
        "id": "rlPUTozrxAW2"
      },
      "outputs": [],
      "source": [
        "from feature_engine.selection import DropConstantFeatures"
      ]
    },
    {
      "cell_type": "code",
      "execution_count": 63,
      "id": "d6j5mZd6xHxg",
      "metadata": {
        "colab": {
          "base_uri": "https://localhost:8080/"
        },
        "id": "d6j5mZd6xHxg",
        "outputId": "c8767eb6-df17-4042-e14c-d3425700dce9"
      },
      "outputs": [
        {
          "name": "stdout",
          "output_type": "stream",
          "text": [
            "Features to drop: ['fconst']\n",
            "Remaining features: Index(['f1', 'f2', 'f3', 'f4', 'f5', 'f6', 'f7', 'f8', 'f9', 'f10', 'f11',\n",
            "       'f12', 'f13', 'f14', 'time', 'fdrifted'],\n",
            "      dtype='object')\n"
          ]
        }
      ],
      "source": [
        "# set up the transformer\n",
        "transformer_drop_constant = DropConstantFeatures(tol=0.99, missing_values='ignore')\n",
        "\n",
        "# fit the transformer\n",
        "transformer_drop_constant.fit(X_train)\n",
        "print(f\"Features to drop: {transformer_drop_constant.features_to_drop_}\")\n",
        "\n",
        "# transform the data\n",
        "X_train_no_constant = transformer_drop_constant.transform(X_train)\n",
        "print(f\"Remaining features: {X_train_no_constant.columns}\")"
      ]
    },
    {
      "cell_type": "markdown",
      "id": "sYkJCGLqbf0_",
      "metadata": {
        "id": "sYkJCGLqbf0_"
      },
      "source": [
        "# Correlated features\n",
        "\n",
        "*Highly* correlated features contains the `same information`. It could be beneficial to `pick up one` of the correlated feature and remove the other ones. Selection can be done:\n",
        "- Arbitrarily.\n",
        "- Based on features statistics (number of missing values, variance, correlation with target, ...).\n",
        "- Prediction power.\n",
        "- ...\n",
        "\n",
        "\n",
        "We use `feature_engine.selection.DropCorrelatedFeatures` to drop the `n_redundant=2` correlated features that are in the dataset. This class finds features with a correlation factor higher than `threshold` and keeps only one of those features.\n",
        "It accepts numerical features only.\n"
      ]
    },
    {
      "cell_type": "code",
      "execution_count": 64,
      "id": "ViOsbzWibmk6",
      "metadata": {
        "id": "ViOsbzWibmk6"
      },
      "outputs": [],
      "source": [
        "from feature_engine.selection import DropCorrelatedFeatures"
      ]
    },
    {
      "cell_type": "code",
      "execution_count": 65,
      "id": "xgEd7Ed-c3zs",
      "metadata": {
        "colab": {
          "base_uri": "https://localhost:8080/"
        },
        "id": "xgEd7Ed-c3zs",
        "outputId": "1ece77fa-0595-4519-de9b-2ba028c4d81c"
      },
      "outputs": [
        {
          "name": "stdout",
          "output_type": "stream",
          "text": [
            "Features to drop: {'f7', 'f11', 'f12'}\n",
            "Remaining features: Index(['f1', 'f2', 'f3', 'f4', 'f5', 'f6', 'f8', 'f9', 'f10', 'f13', 'f14',\n",
            "       'time', 'fdrifted'],\n",
            "      dtype='object')\n"
          ]
        }
      ],
      "source": [
        "# set up the transformer\n",
        "transformer_drop_correlated = DropCorrelatedFeatures(threshold=0.8)\n",
        "\n",
        "# fit the transformer\n",
        "transformer_drop_correlated.fit(X_train_no_constant)\n",
        "print(f\"Features to drop: {transformer_drop_correlated.features_to_drop_}\")\n",
        "\n",
        "# transform the data\n",
        "X_train_no_correlated = transformer_drop_correlated.transform(X_train_no_constant)\n",
        "print(f\"Remaining features: {X_train_no_correlated.columns}\")"
      ]
    },
    {
      "cell_type": "markdown",
      "id": "yCG4c_8Wc2oe",
      "metadata": {
        "id": "yCG4c_8Wc2oe"
      },
      "source": [
        "> Tip: when multiple features are correlated with each other, which ones should you drop?\n",
        "[`SmartCorrelatedSelection`](https://feature-engine.readthedocs.io/en/1.1.x/selection/SmartCorrelatedSelection.html) automatically finds clusters of correlated features and lets you keep only the:\n",
        "- Feature with least missing values\n",
        "- Feature with most unique values\n",
        "- Feature with highest variance\n",
        "- Best performing feature according to an estimator defined by you"
      ]
    },
    {
      "cell_type": "markdown",
      "id": "BhkRyapFePiD",
      "metadata": {
        "id": "BhkRyapFePiD"
      },
      "source": [
        "# Features with a drift\n",
        "\n",
        "Once deployed in production, the `performance of Machine Learning models usually erode with time` because the world is changing. \n",
        "- Macro-economic changes (inflation, recessions, crisis, ...).\n",
        "- Customer behavior changes (home-banking penetration, ).\n",
        "- Processes changes (new products, ...).\n",
        "\n",
        "Changes in the data distribution in production, could lead to biased predictions. Data drift is a major reason model accuracy decreases over time.\n",
        "\n",
        "\n",
        "![shift](../pictures/Shift.png)\n",
        "</p>\n",
        "<p align = \"left\">\n",
        "<span style=\"color:skyblue\">Figure 1 - Example of drift in data distribution</span>\n",
        "</p>\n",
        "\n",
        "\n",
        "## PSI: A simple way to assess population shift\n",
        "\n",
        "PSI stands for Population Stability Index. It is a single number that summarizes how much two distribution differ. It is computed in the following way:\n",
        "- Define the `two distributions` to compare (for example train and test).\n",
        "- Define buckets (bins) to `discretize` the reference population (usually train).\n",
        "- Compute the `percentage` of observation falling in each bucket for train.\n",
        "- Compute the percentage of observation falling in each bucket for test.\n",
        "- Compute the `PSI` using the following formula\n",
        "\n",
        "![PSI](../pictures/PSI.png)\n",
        "\n",
        "</p>\n",
        "<p align = \"left\">\n",
        "<span style=\"color:skyblue\">Equation 1 - Formula to compute the PSI value. A threshold of 0.25 is standard to design a significant change in population.</span>\n",
        "</p>\n",
        "\n",
        "\n",
        "**More info: [PSI is related to the Kullback Liebler divergence](https://scholarworks.wmich.edu/cgi/viewcontent.cgi?article=4249&context=dissertations)**"
      ]
    },
    {
      "cell_type": "markdown",
      "id": "70106447",
      "metadata": {},
      "source": [
        "## What are the use cases?\n",
        "\n",
        "- Data is collected over a `long period` of time.\n",
        "- Data is collected over `different groups` (common model for mortgages, personal loans, credit card, ...)\n",
        "\n",
        "![internet banking Belgium](../pictures/IB_share.png)\n",
        "</p>\n",
        "<p align = \"left\">\n",
        "<span style=\"color:skyblue\">Figure 2 - Penetration of internet banking in Belgium (https://www.statista.com) </span>\n",
        "</p>\n",
        "\n",
        "## Be careful\n",
        "\n",
        "- High PSI value may come from \"natural\" behavior like seasonality or Covid spike.\n",
        "- PSI value is depending on the bucketing approach.\n",
        "- PSI is a univariate measure.\n"
      ]
    },
    {
      "cell_type": "markdown",
      "id": "ad93289b",
      "metadata": {},
      "source": [
        "### How to deal with high PSI features?\n",
        "\n",
        "- A feature with high PSI value is not bad by definition.\n",
        "- It is important to understand the nature of the high PSI.\n",
        "- Some feature may have lower PSI values once transformed: Income => Income / Average(Income)"
      ]
    },
    {
      "cell_type": "markdown",
      "id": "ea69f827",
      "metadata": {},
      "source": [
        "## Tooling\n",
        "\n",
        "- The [Probatus](https://ing-bank.github.io/probatus/tutorials/nb_distribution_statistics.html) package contains several functionalities to estimate population shift.\n",
        "- Feature engine has a transformer to remove features with high PSI (developed by RPAA'er)"
      ]
    },
    {
      "cell_type": "markdown",
      "id": "21873388",
      "metadata": {},
      "source": [
        "### DropHighPSIFeatures from Feature Engine\n",
        "\n",
        "[DropHighPSIFeatures](https://feature-engine.readthedocs.io/en/1.2.x/api_doc/selection/DropHighPSIFeatures.html) signature is mostly driven by:\n",
        "- How to split the dataframe in order to define the distribution to compare.\n",
        "- How to compute the PSI (buckets and threshold)\n",
        "\n",
        "- https://trainindata.medium.com/how-to-select-features-based-on-the-population-stability-index-58a1f0283583\n",
        "- https://github.com/feature-engine/feature-engine-examples/blob/main/selection/Drop-High-PSI-Features.ipynb\n",
        "- https://github.com/feature-engine/feature_engine/blob/main/docs/user_guide/selection/DropHighPSIFeatures.rst"
      ]
    },
    {
      "cell_type": "markdown",
      "id": "4c2635f0",
      "metadata": {},
      "source": [
        "Remember, we introduced a `drifted` feature in the dataset. Let's first look at the behavior of the feature over time."
      ]
    },
    {
      "cell_type": "code",
      "execution_count": 66,
      "id": "9bbf0fd5",
      "metadata": {},
      "outputs": [],
      "source": [
        "import matplotlib"
      ]
    },
    {
      "cell_type": "code",
      "execution_count": 67,
      "id": "a2912c65",
      "metadata": {},
      "outputs": [
        {
          "data": {
            "text/plain": [
              "<AxesSubplot:xlabel='time'>"
            ]
          },
          "execution_count": 67,
          "metadata": {},
          "output_type": "execute_result"
        },
        {
          "data": {
            "image/png": "[encoded data removed]",
            "text/plain": [
              "<Figure size 864x360 with 1 Axes>"
            ]
          },
          "metadata": {
            "needs_background": "light"
          },
          "output_type": "display_data"
        }
      ],
      "source": [
        "X_train.groupby('time')['fdrifted'].mean().plot(figsize=(12, 5))"
      ]
    },
    {
      "cell_type": "markdown",
      "id": "a728a4a7",
      "metadata": {},
      "source": [
        "Looking at the `cumulative density function` before and after 1500 clearly shows a difference in distribution."
      ]
    },
    {
      "cell_type": "code",
      "execution_count": 68,
      "id": "93f65886",
      "metadata": {},
      "outputs": [],
      "source": [
        "import seaborn as sns\n",
        "X_train['above_cut_off'] = X_train.time > date(1500, 1, 1)\n"
      ]
    },
    {
      "cell_type": "code",
      "execution_count": 69,
      "id": "068283e7",
      "metadata": {},
      "outputs": [
        {
          "data": {
            "text/plain": [
              "<AxesSubplot:xlabel='fdrifted', ylabel='Proportion'>"
            ]
          },
          "execution_count": 69,
          "metadata": {},
          "output_type": "execute_result"
        },
        {
          "data": {
            "image/png": "[encoded data removed]",
            "text/plain": [
              "<Figure size 432x288 with 1 Axes>"
            ]
          },
          "metadata": {
            "needs_background": "light"
          },
          "output_type": "display_data"
        }
      ],
      "source": [
        "sns.ecdfplot(data=X_train, x='fdrifted', hue='above_cut_off')"
      ]
    },
    {
      "cell_type": "code",
      "execution_count": 70,
      "id": "cf70a0aa",
      "metadata": {},
      "outputs": [],
      "source": [
        "from feature_engine.selection import DropHighPSIFeatures"
      ]
    },
    {
      "cell_type": "code",
      "execution_count": 71,
      "id": "TNvzmEZtzbyK",
      "metadata": {
        "colab": {
          "base_uri": "https://localhost:8080/"
        },
        "id": "TNvzmEZtzbyK",
        "outputId": "27e3460c-9a62-468d-cc41-2a9e36724857"
      },
      "outputs": [
        {
          "name": "stdout",
          "output_type": "stream",
          "text": [
            "Features to drop: ['fdrifted']\n",
            "Remaining features: Index(['f1', 'f2', 'f3', 'f4', 'f5', 'f6', 'f8', 'f9', 'f10', 'f13', 'f14',\n",
            "       'time'],\n",
            "      dtype='object')\n"
          ]
        }
      ],
      "source": [
        "# set up the transformer\n",
        "transformer_psi = DropHighPSIFeatures(split_col='time', cut_off=date(1789, 7, 14))\n",
        "\n",
        "# fit the transformer\n",
        "transformer_psi.fit(X_train_no_correlated, y=y_train)\n",
        "print(f\"Features to drop: {transformer_psi.features_to_drop_}\")\n",
        "\n",
        "# transform the data\n",
        "X_train_no_corr_target = transformer_psi.transform(X_train_no_correlated)\n",
        "print(f\"Remaining features: {X_train_no_corr_target.columns}\")"
      ]
    },
    {
      "cell_type": "code",
      "execution_count": 72,
      "id": "784d8e72",
      "metadata": {},
      "outputs": [
        {
          "data": {
            "text/plain": [
              "{'f1': 0.040028163520957526,\n",
              " 'f2': 0.04903601046867709,\n",
              " 'f3': 0.1773192969111151,\n",
              " 'f4': 0.07821614775674682,\n",
              " 'f5': 0.0674080166889609,\n",
              " 'f6': 0.08253123784159076,\n",
              " 'f8': 0.04104467713747409,\n",
              " 'f9': 0.10625761905421968,\n",
              " 'f10': 0.08407756283310111,\n",
              " 'f13': 0.05284592071083042,\n",
              " 'f14': 0.1035049717122653,\n",
              " 'fdrifted': 2.9760117997649234}"
            ]
          },
          "execution_count": 72,
          "metadata": {},
          "output_type": "execute_result"
        }
      ],
      "source": [
        "transformer_psi.psi_values_"
      ]
    },
    {
      "cell_type": "markdown",
      "id": "kqWINMkEdc-_",
      "metadata": {
        "id": "kqWINMkEdc-_"
      },
      "source": [
        "# Pipeline syntax\n",
        "\n",
        "`Feature-engine` is compatible with the `scikit-learn` pipeline syntax. This means they can easily be combined with Sklearn pipeline functionalities.\n",
        "Let's illustrate how this is working."
      ]
    },
    {
      "cell_type": "code",
      "execution_count": 76,
      "id": "OCzTo8Jk3K4Y",
      "metadata": {
        "id": "OCzTo8Jk3K4Y"
      },
      "outputs": [],
      "source": [
        "# Re-creating the dataset\n",
        "X_train, X_test, y_train, y_test = make_df(n_samples=1000, n_features=14, n_informative=8, n_redundant=2, n_repeated=2)"
      ]
    },
    {
      "cell_type": "code",
      "execution_count": 77,
      "id": "83pNYYar0ZVM",
      "metadata": {
        "colab": {
          "base_uri": "https://localhost:8080/"
        },
        "id": "83pNYYar0ZVM",
        "outputId": "aed5ed78-69ee-4099-d63d-c01c357a67e8"
      },
      "outputs": [
        {
          "name": "stdout",
          "output_type": "stream",
          "text": [
            "Remaining features: Index(['f1', 'f2', 'f3', 'f4', 'f5', 'f6', 'f8', 'f9', 'f10', 'f13', 'f14'], dtype='object')\n"
          ]
        }
      ],
      "source": [
        "from sklearn.pipeline import Pipeline\n",
        "from feature_engine.selection import DropFeatures\n",
        "\n",
        "# Set up a pipeline\n",
        "fs_pipeline = Pipeline(\n",
        "    [\n",
        "        (\"drop_constant\", DropConstantFeatures(tol=0.99, missing_values='ignore')), \n",
        "        (\"drop_correlated\", DropCorrelatedFeatures(threshold=0.85)), \n",
        "        (\"drop_psi\", DropHighPSIFeatures(split_col='time', cut_off=date(1789, 7, 14))),\n",
        "        (\"drop_time\", DropFeatures(['time'])),\n",
        "    ]\n",
        ")\n",
        "\n",
        "# Fit the pipeline\n",
        "fs_pipeline.fit(X_train, y_train)\n",
        "\n",
        "# Transform the data\n",
        "X_train_transformed = fs_pipeline.transform(X_train)\n",
        "print(f\"Remaining features: {X_train_transformed.columns}\")"
      ]
    },
    {
      "cell_type": "markdown",
      "id": "5a9a61e5",
      "metadata": {},
      "source": [
        "> Be carefull the order of the selector in the pipeline does matter. Try to put the univariate selectors first."
      ]
    },
    {
      "cell_type": "markdown",
      "id": "bw2AtocdGduJ",
      "metadata": {
        "id": "bw2AtocdGduJ"
      },
      "source": [
        "> Tip: in most `feature-engine` selectors, you can define to which variables the selector should be applied to, using the argument `variables`. You can use this to ignore information columns which should not be used as features, or to apply different pipelines to categorical and numerical columns, for example."
      ]
    },
    {
      "cell_type": "markdown",
      "id": "25a93109-8dcc-422f-8bbc-7ef0f5b73b76",
      "metadata": {
        "id": "25a93109-8dcc-422f-8bbc-7ef0f5b73b76"
      },
      "source": [
        "# Please try this at home!\n",
        "\n",
        "- After looking at the data, you realize that some of the features (f2, f3 and f14) are not fit for modelling. Add the `DropFeature` functionality to the pipeline and re-run it. \n",
        "- Check the functionality removed the correct features.\n",
        "- Try the SmartCorrelatedSelection\n"
      ]
    },
    {
      "cell_type": "code",
      "execution_count": null,
      "id": "df660d94",
      "metadata": {},
      "outputs": [],
      "source": []
    }
  ],
  "metadata": {
    "colab": {
      "collapsed_sections": [],
      "name": "code-breakfast.ipynb",
      "provenance": [],
      "toc_visible": true
    },
    "kernelspec": {
      "display_name": "Python 3 (ipykernel)",
      "language": "python",
      "name": "python3"
    },
    "language_info": {
      "codemirror_mode": {
        "name": "ipython",
        "version": 3
      },
      "file_extension": ".py",
      "mimetype": "text/x-python",
      "name": "python",
      "nbconvert_exporter": "python",
      "pygments_lexer": "ipython3",
      "version": "3.6.9"
    },
    "toc-autonumbering": true,
    "toc-showcode": false,
    "toc-showmarkdowntxt": false,
    "toc-showtags": false
  },
  "nbformat": 4,
  "nbformat_minor": 5
}
